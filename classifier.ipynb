{
 "cells": [
  {
   "cell_type": "markdown",
   "metadata": {},
   "source": [
    "# Day and Night Image Classifier\n",
    "---\n",
    "\n",
    "The day/night image dataset consists of 200 RGB color images in two categories: day and night. There are equal numbers of each example: 100 day images and 100 night images.\n",
    "\n",
    "We're trying to build a classifier that can accurately label these images as day or night, and that relies on finding distinguishing features between the two types of images!\n",
    "\n",
    "*Note: All images come from the [AMOS dataset](http://cs.uky.edu/~jacobs/datasets/amos/) (Archive of Many Outdoor Scenes).*\n"
   ]
  },
  {
   "cell_type": "markdown",
   "metadata": {},
   "source": [
    "### Import resources\n",
    "\n",
    "Before we get started on the project code, import the libraries that we'll need."
   ]
  },
  {
   "cell_type": "code",
   "execution_count": null,
   "metadata": {},
   "outputs": [],
   "source": [
    "import os\n",
    "import glob #for loading images from a directory\n",
    "import matplotlib.image as mpimg\n",
    "import cv2"
   ]
  },
  {
   "cell_type": "code",
   "execution_count": null,
   "metadata": {},
   "outputs": [],
   "source": [
    "def load_dataset(image_dir):\n",
    "    '''This function loads in images and their labels and places them in a list\n",
    "    im_list[0][:] will be the first image-label pair in the list'''\n",
    "    \n",
    "    im_list = []\n",
    "    image_types = [\"day\", \"night\"]\n",
    "    \n",
    "    # Iterate through each color folder\n",
    "    for im_type in image_types:\n",
    "        \n",
    "        # Iterate through each image file in each image_type folder\n",
    "        # glob reads in any image with the extension \"image_dir/im_type/*\"\n",
    "        for file in glob.glob(os.path.join(image_dir, im_type, \"*\")):\n",
    "            \n",
    "            # Read in the image\n",
    "            im = mpimg.imread(file)\n",
    "            \n",
    "            # Check if the image exists/if it's been correctly read-in\n",
    "            if not im is None:\n",
    "                # Append the image, and it's type (red, green, yellow) to the image list\n",
    "                im_list.append((im, im_type))\n",
    "    \n",
    "    return im_list"
   ]
  },
  {
   "cell_type": "code",
   "execution_count": null,
   "metadata": {},
   "outputs": [],
   "source": [
    "def standardize_input(image):\n",
    "    \n",
    "    # Resize image and pre-process so that all \"standard\" images are the same size\n",
    "    standard_im = cv2.resize(image, (1100, 600))\n",
    "    \n",
    "    return standard_im"
   ]
  },
  {
   "cell_type": "code",
   "execution_count": null,
   "metadata": {},
   "outputs": [],
   "source": [
    "def encode(label):\n",
    "    # encode day as 1, night as 0\n",
    "    numerical_val = 0\n",
    "    if(label == 'day'):\n",
    "        numerical_val = 1\n",
    "    \n",
    "    return numerical_val"
   ]
  },
  {
   "cell_type": "code",
   "execution_count": null,
   "metadata": {},
   "outputs": [],
   "source": [
    "def preprocess(image_list):\n",
    "    \n",
    "    #standardize and encode the input data\n",
    "    standard_list = []\n",
    "    \n",
    "    # Iterate through all the image-label pairs\n",
    "    for item in image_list:\n",
    "        image = item[0]\n",
    "        label = item[1]\n",
    "        \n",
    "        # Standardize the image\n",
    "        standardized_im = standardize_input(image)\n",
    "        \n",
    "        # Create a numerical label\n",
    "        binary_label = encode(label)\n",
    "        \n",
    "        # Append the image, and it's one hot encoded label to the full, processed list of image data\n",
    "        standard_list.append((standardized_im, binary_label))\n",
    "    \n",
    "    return standard_list"
   ]
  },
  {
   "cell_type": "code",
   "execution_count": null,
   "metadata": {},
   "outputs": [],
   "source": []
  }
 ],
 "metadata": {
  "kernelspec": {
   "display_name": "Python 3",
   "language": "python",
   "name": "python3"
  },
  "language_info": {
   "codemirror_mode": {
    "name": "ipython",
    "version": 2
   },
   "file_extension": ".py",
   "mimetype": "text/x-python",
   "name": "python",
   "nbconvert_exporter": "python",
   "pygments_lexer": "ipython2",
   "version": "2.7.15+"
  }
 },
 "nbformat": 4,
 "nbformat_minor": 2
}
